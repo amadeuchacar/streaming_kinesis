{
 "cells": [
  {
   "cell_type": "markdown",
   "id": "e2a214f8",
   "metadata": {},
   "source": [
    "# Projeto 2.1 - Criar produtor de dados e entregar via Kinesis Data Stream"
   ]
  },
  {
   "cell_type": "markdown",
   "id": "ad4c3327",
   "metadata": {},
   "source": [
    "## Preparar ambiente"
   ]
  },
  {
   "cell_type": "code",
   "execution_count": null,
   "id": "95d6f1bc",
   "metadata": {
    "scrolled": true
   },
   "outputs": [],
   "source": [
    "!pip install boto3 #lib para trabalhar com serviços AWS"
   ]
  },
  {
   "cell_type": "code",
   "execution_count": null,
   "id": "f3744b2f",
   "metadata": {},
   "outputs": [],
   "source": [
    "!pip install python-dotenv #lib para trabalhar com variáveis de ambiente no python"
   ]
  },
  {
   "cell_type": "code",
   "execution_count": null,
   "id": "86fcfd1c",
   "metadata": {},
   "outputs": [],
   "source": [
    "# Importa um método da biblioteca dotenv\n",
    "from dotenv import load_dotenv\n",
    "import os\n",
    "\n",
    "# Carrega as variáveis de ambiente do arquivo .env\n",
    "load_dotenv()"
   ]
  },
  {
   "cell_type": "code",
   "execution_count": null,
   "id": "442b923c",
   "metadata": {},
   "outputs": [],
   "source": [
    "# salva as variáveis de ambiente necessárias para o projeto\n",
    "aws_access_key_id = os.environ.get('AWS_ACCESS_KEY_ID')\n",
    "aws_secret_access_key = os.environ.get('AWS_SECRET_ACCESS_KEY')\n",
    "region_name = os.environ.get('REGION_NAME')\n",
    "partition_key= os.environ.get('PARTITION_KEY')"
   ]
  },
  {
   "cell_type": "markdown",
   "id": "c875b5b3",
   "metadata": {},
   "source": [
    "## Criar o produtor de dados e entregar para o stream do Kinesis Data Stream"
   ]
  },
  {
   "cell_type": "code",
   "execution_count": null,
   "id": "96666ef2",
   "metadata": {},
   "outputs": [],
   "source": [
    "import boto3\n",
    "import json\n",
    "\n",
    "# criar um cliente do boto3 para o kinesis, definindo as chaves de acesso e a região\n",
    "cliente = boto3.client('kinesis', aws_access_key_id=aws_access_key_id, aws_secret_access_key=aws_secret_access_key,\n",
    "                      region_name=region_name)\n",
    "\n",
    "# criando registros aleatórios para teste, com um id de um vendedor e seu nome\n",
    "registro = {'idvendedor':'994', 'nome':'Thor'}\n",
    "\n",
    "# jogando o dado criado no registro para o stream \"stream1\" criado no Kinesis\n",
    "resposta = cliente.put_record(StreamName = 'stream1',\n",
    "                             Data = json.dumps(registro), # transforma o registro em um json\n",
    "                             PartitionKey = partition_key) # partition key -> partição de shard que será utilizada\n",
    "\n",
    "print(resposta)"
   ]
  }
 ],
 "metadata": {
  "kernelspec": {
   "display_name": "Python 3",
   "language": "python",
   "name": "python3"
  },
  "language_info": {
   "codemirror_mode": {
    "name": "ipython",
    "version": 3
   },
   "file_extension": ".py",
   "mimetype": "text/x-python",
   "name": "python",
   "nbconvert_exporter": "python",
   "pygments_lexer": "ipython3",
   "version": "3.8.8"
  }
 },
 "nbformat": 4,
 "nbformat_minor": 5
}
