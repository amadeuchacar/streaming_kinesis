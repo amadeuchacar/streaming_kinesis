{
 "cells": [
  {
   "cell_type": "markdown",
   "id": "04f324f0",
   "metadata": {},
   "source": [
    "# Projeto 2.2 - Criar consumidor de dados para consumir o que o produtor gerar"
   ]
  },
  {
   "cell_type": "markdown",
   "id": "0a8dde02",
   "metadata": {},
   "source": [
    "## Preparar ambiente"
   ]
  },
  {
   "cell_type": "code",
   "execution_count": null,
   "id": "0edb2610",
   "metadata": {},
   "outputs": [],
   "source": [
    "!pip install boto3 #lib para trabalhar com serviços AWS"
   ]
  },
  {
   "cell_type": "code",
   "execution_count": null,
   "id": "31831d93",
   "metadata": {},
   "outputs": [],
   "source": [
    "!pip install python-dotenv #lib para trabalhar com variáveis de ambiente no python"
   ]
  },
  {
   "cell_type": "code",
   "execution_count": null,
   "id": "4b669fd0",
   "metadata": {},
   "outputs": [],
   "source": [
    "# Importa um método da biblioteca dotenv\n",
    "from dotenv import load_dotenv\n",
    "import os\n",
    "\n",
    "# Carrega as variáveis de ambiente do arquivo .env\n",
    "load_dotenv()"
   ]
  },
  {
   "cell_type": "code",
   "execution_count": null,
   "id": "6d829653",
   "metadata": {},
   "outputs": [],
   "source": [
    "# salva as variáveis de ambiente necessárias para o projeto\n",
    "aws_access_key_id = os.environ.get('AWS_ACCESS_KEY_ID')\n",
    "aws_secret_access_key = os.environ.get('AWS_SECRET_ACCESS_KEY')\n",
    "region_name = os.environ.get('REGION_NAME')\n",
    "partition_key= os.environ.get('PARTITION_KEY')\n",
    "shard_id = os.environ.get('SHARD_ID')"
   ]
  },
  {
   "cell_type": "markdown",
   "id": "3aeaa17e",
   "metadata": {},
   "source": [
    "## Cria o consumidor de dados gerados pelo produtor"
   ]
  },
  {
   "cell_type": "code",
   "execution_count": null,
   "id": "e5eac66d",
   "metadata": {},
   "outputs": [],
   "source": [
    "import boto3\n",
    "\n",
    "# criar um cliente do boto3 para o kinesis, definindo as chaves de acesso e a região\n",
    "cliente = boto3.client('kinesis', aws_access_key_id=aws_access_key_id, aws_secret_access_key=aws_secret_access_key,\n",
    "                      region_name=region_name)\n",
    "\n",
    "# criar uma variável shard que irá armazenar as informações do shard e pegar os últimos (latest) dados gerados pelo produtor\n",
    "shard = cliente.get_shard_iterator(StreamName = 'stream1',\n",
    "                                  ShardId = shard_id,\n",
    "                                  ShardIteratorType = 'LATEST'\n",
    "                                  )[\"ShardIterator\"]\n",
    "\n",
    "# enquanto o shard estiver ativo\n",
    "while shard is not None:\n",
    "    resultado = cliente.get_records(ShardIterator = shard) # pega o resultado gerado pelo produtor\n",
    "    registros = resultado['Records'] # pega os registros de dados no resultado (os dados criados propriamente ditos)\n",
    "    shard = resultado[\"NextShardIterator\"] # itera o shard para continuar o loop\n",
    "    \n",
    "    for registro in registros: # printa as informações do registro gerado pelo produtor\n",
    "        print(registro[\"SequenceNumber\"])\n",
    "        print(registro[\"ApproximateArrivalTimestamp\"])\n",
    "        print(registro[\"PartitionKey\"])\n",
    "        print(registro[\"Data\"])"
   ]
  }
 ],
 "metadata": {
  "kernelspec": {
   "display_name": "Python 3",
   "language": "python",
   "name": "python3"
  },
  "language_info": {
   "codemirror_mode": {
    "name": "ipython",
    "version": 3
   },
   "file_extension": ".py",
   "mimetype": "text/x-python",
   "name": "python",
   "nbconvert_exporter": "python",
   "pygments_lexer": "ipython3",
   "version": "3.8.8"
  }
 },
 "nbformat": 4,
 "nbformat_minor": 5
}
